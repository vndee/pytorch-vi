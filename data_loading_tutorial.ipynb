{
  "nbformat": 4,
  "nbformat_minor": 0,
  "metadata": {
    "colab": {
      "name": "data_loading_tutorial.ipynb",
      "version": "0.3.2",
      "provenance": [],
      "collapsed_sections": [],
      "include_colab_link": true
    },
    "kernelspec": {
      "name": "python3",
      "display_name": "Python 3"
    }
  },
  "cells": [
    {
      "cell_type": "markdown",
      "metadata": {
        "id": "view-in-github",
        "colab_type": "text"
      },
      "source": [
        "<a href=\"https://colab.research.google.com/github/vndee/pytorch-vi/blob/master/data_loading_tutorial.ipynb\" target=\"_parent\"><img src=\"https://colab.research.google.com/assets/colab-badge.svg\" alt=\"Open In Colab\"/></a>"
      ]
    },
    {
      "cell_type": "code",
      "metadata": {
        "id": "PE4od6NhR04f",
        "colab_type": "code",
        "colab": {}
      },
      "source": [
        "%matplotlib inline"
      ],
      "execution_count": 0,
      "outputs": []
    },
    {
      "cell_type": "markdown",
      "metadata": {
        "id": "GnUr6mZfSYaN",
        "colab_type": "text"
      },
      "source": [
        "#Data Loading and Processing Tutorial\n",
        "\n",
        "**Author**: Sasank Chilamkurthy <https://chsasank.github.io>_\n",
        "\n",
        "Một trong những vấn đề được đầu tư và bỏ công sức lớn trong việc giải quyết các bài toán học sâu đó là chuẩn bị dữ liệu. Do đó PyTorch cung cấp rất nhiều công cụ hỗ trợ cho việc load dữ liệu cũng xử lí dữ liệu một cách dễ dàng và trực quan. Trong bài này chúng ta sẽ tìm hiểu load và xử lý dữ liệu trong PyTorch thực sự hoạt động như thế nào.\n",
        "\n",
        "Trước hết chúng ta cần cài một số package liên quan đến dữ liệu:\n",
        "- `scikit-images`: Dùng để đọc và biến đổi ảnh.\n",
        "- `pandas`:  Dùng để đọc file csv một cách dễ dàng.\n"
      ]
    },
    {
      "cell_type": "code",
      "metadata": {
        "id": "1VeUORG3Uw6J",
        "colab_type": "code",
        "colab": {}
      },
      "source": [
        "import os\n",
        "import torch\n",
        "\n",
        "import pandas as pd\n",
        "import numpy as np\n",
        "import matplotlib.pyplot as plt\n",
        "\n",
        "from skimage import io, transform\n",
        "from torch.utils.data import Dataset, DataLoader\n",
        "from torchvision import transforms, utils\n",
        "from __future__ import print_function, division\n",
        "\n",
        "# ignore warning\n",
        "import warnings\n",
        "warnings.filterwarnings('ignore')\n",
        "\n",
        "# iteractive mode\n",
        "plt.ion()"
      ],
      "execution_count": 0,
      "outputs": []
    },
    {
      "cell_type": "code",
      "metadata": {
        "id": "0EukbhT3VpER",
        "colab_type": "code",
        "colab": {}
      },
      "source": [
        ""
      ],
      "execution_count": 0,
      "outputs": []
    }
  ]
}